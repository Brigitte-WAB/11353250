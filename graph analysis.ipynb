{
 "cells": [
  {
   "cell_type": "markdown",
   "id": "1bc41ad4-3cae-4671-a365-7fe1623311eb",
   "metadata": {},
   "source": [
    "### UG LOGO\n",
    "---\n",
    "![UG LOGO](./uglogo.jpg)\n",
    "\n",
    "\n",
    "![SES LOGO](./seslogo.jpg)"
   ]
  },
  {
   "cell_type": "markdown",
   "id": "9c09de36-1dcf-4d0a-8ec3-4c4bb941b945",
   "metadata": {},
   "source": [
    "### GRAPH DETAILS\n",
    "---\n",
    "![SCATTER GRAPH](./graph1.jpg)\n",
    "\n",
    "![BAR GRAPH](./graph2.jpg)"
   ]
  },
  {
   "cell_type": "markdown",
   "id": "9bebe5e1-33ce-4778-9569-5da6c8005839",
   "metadata": {},
   "source": [
    " ### Bar graph report\n"
   ]
  },
  {
   "cell_type": "markdown",
   "id": "5a2da75e-8aa2-4319-a64a-b91b9a4b28c2",
   "metadata": {},
   "source": [
    "This bar graph displays the quantity and alcohol content of the red wine dataset. The alcohol content categories are represented on the x-axis, while the quantity is shown on the y-axis. The quality (frequency) scores are mostly concentrated between 3-5, with a left-skewed distribution. This indicates that the majority of wines in the dataset are of average quality. There are very few wines with extremely low scores of 0-2, and the sample does not include many wines with exceptional or inferior quality. Most of the wines fall within the acceptable to good quality range. However, it's important to note that definitive conclusions about the overall distribution of wine quality cannot be made based on this sample alone."
   ]
  },
  {
   "cell_type": "markdown",
   "id": "053eb5db-8520-411d-80da-8ff60ddafc98",
   "metadata": {},
   "source": [
    "### Scatter plot report"
   ]
  },
  {
   "cell_type": "markdown",
   "id": "c8836f86-acca-47b2-a096-b9373e365fff",
   "metadata": {},
   "source": [
    "There is a slight positive correlation between the alcohol percentage in wine and its quality. Wines with higher alcohol levels tend to receive higher quality ratings. However, this association is not very strong. It suggests that the quality of wine is not just determined by its alcohol content but also depends on other factors such as its flavor, aroma, acidity, and tannins."
   ]
  },
  {
   "cell_type": "code",
   "execution_count": null,
   "id": "e5b52f5f-b206-460f-b6fd-d96c3af1edea",
   "metadata": {},
   "outputs": [],
   "source": []
  }
 ],
 "metadata": {
  "kernelspec": {
   "display_name": "Python 3 (ipykernel)",
   "language": "python",
   "name": "python3"
  },
  "language_info": {
   "codemirror_mode": {
    "name": "ipython",
    "version": 3
   },
   "file_extension": ".py",
   "mimetype": "text/x-python",
   "name": "python",
   "nbconvert_exporter": "python",
   "pygments_lexer": "ipython3",
   "version": "3.12.0"
  }
 },
 "nbformat": 4,
 "nbformat_minor": 5
}
